{
 "cells": [
  {
   "cell_type": "code",
   "execution_count": 1,
   "metadata": {},
   "outputs": [
    {
     "name": "stderr",
     "output_type": "stream",
     "text": [
      "2023-04-14 16:20:16.634945: I tensorflow/tsl/cuda/cudart_stub.cc:28] Could not find cuda drivers on your machine, GPU will not be used.\n",
      "2023-04-14 16:20:20.609802: I tensorflow/tsl/cuda/cudart_stub.cc:28] Could not find cuda drivers on your machine, GPU will not be used.\n",
      "2023-04-14 16:20:20.610623: I tensorflow/core/platform/cpu_feature_guard.cc:182] This TensorFlow binary is optimized to use available CPU instructions in performance-critical operations.\n",
      "To enable the following instructions: AVX2 FMA, in other operations, rebuild TensorFlow with the appropriate compiler flags.\n",
      "2023-04-14 16:20:59.351589: W tensorflow/compiler/tf2tensorrt/utils/py_utils.cc:38] TF-TRT Warning: Could not find TensorRT\n"
     ]
    }
   ],
   "source": [
    "import numpy as np\n",
    "import pandas as pd\n",
    "import matplotlib.pyplot as plt\n",
    "import seaborn as sns\n",
    "from sklearn.decomposition import PCA\n",
    "import palettable\n",
    "from pathlib import Path\n",
    "import glob\n",
    "import os\n",
    "import scipy.ndimage as ndimage\n",
    "from scipy import signal\n",
    "import statsmodels.api as smapi\n",
    "from sklearn.metrics import mean_squared_error\n",
    "from sklearn.metrics import mean_absolute_error\n",
    "from keras.models import Sequential\n",
    "from keras.layers import Dense, LSTM, BatchNormalization\n",
    "from keras.optimizers import Adam\n",
    "from keras.callbacks import ReduceLROnPlateau, EarlyStopping\n",
    "from keras.regularizers import l2\n",
    "from keras.preprocessing import sequence\n",
    "import tensorflow as tf\n",
    "from keras.models import Sequential\n",
    "from keras.layers import Dense\n",
    "from keras.layers import LSTM\n",
    "\n",
    "from keras.optimizers import Adam\n",
    "from keras.models import load_model\n",
    "from keras.callbacks import ModelCheckpoint\n",
    "from time import time"
   ]
  },
  {
   "cell_type": "code",
   "execution_count": 2,
   "metadata": {},
   "outputs": [],
   "source": [
    "#Specify your data path here\n",
    "data_dir = Path('/rds/general/user/ys5320/home/Classification')\n",
    "\n",
    "movements = ['HC_90','HC_45','Leg_extension_sit','Leg_presses_liftup', 'Half_squat']\n",
    "#movements = ['HC_45','HC_90']\n",
    "\n",
    "n_move = []\n",
    "file_path = list()\n",
    "tcs = list()\n",
    "target = list()\n",
    "csv_all = []\n",
    "for i in range(len(movements)):\n",
    "    sub_tc = list()\n",
    "    move = movements[i]\n",
    "    os.chdir(Path(data_dir, move))\n",
    "    extension = 'csv'\n",
    "    csv_filenames = [i for i in glob.glob('*.{}'.format(extension))]\n",
    "    csv_all.extend(csv_filenames)\n",
    "    n_move.append(len(csv_filenames))\n",
    "    file_path.extend(csv_filenames)\n",
    "\n",
    "    target.extend(i for j in range(n_move[i]))\n",
    "\n",
    "    for k in range(n_move[i]):\n",
    "        df = pd.read_csv(csv_filenames[k], index_col = False, header = None)\n",
    "        values = np.array(df.values)\n",
    "        values = values[:5700,:]\n",
    "        #print(values.shape)\n",
    "        sub_tc.append(values)\n",
    "        \n",
    "    tcs.extend(sub_tc)   "
   ]
  },
  {
   "cell_type": "code",
   "execution_count": 3,
   "metadata": {},
   "outputs": [
    {
     "data": {
      "text/plain": [
       "(271, 5700, 12)"
      ]
     },
     "execution_count": 3,
     "metadata": {},
     "output_type": "execute_result"
    }
   ],
   "source": [
    "stacked_arr = np.stack([arr for arr in tcs])\n",
    "stacked_arr.shape"
   ]
  },
  {
   "cell_type": "code",
   "execution_count": 9,
   "metadata": {},
   "outputs": [
    {
     "name": "stdout",
     "output_type": "stream",
     "text": [
      "(216, 5700, 12) (55, 5700, 12) (216,) (55,)\n"
     ]
    }
   ],
   "source": [
    "from sklearn.model_selection import train_test_split\n",
    "X = stacked_arr\n",
    "y = np.array(target)\n",
    "X_train, X_test, y_train, y_test = train_test_split(X,y, stratify = y, test_size = 0.2)\n",
    "print(X_train.shape, X_test.shape, y_train.shape, y_test.shape)"
   ]
  },
  {
   "cell_type": "code",
   "execution_count": 10,
   "metadata": {},
   "outputs": [
    {
     "data": {
      "text/plain": [
       "(55,)"
      ]
     },
     "execution_count": 10,
     "metadata": {},
     "output_type": "execute_result"
    }
   ],
   "source": [
    "y_test.shape"
   ]
  },
  {
   "cell_type": "code",
   "execution_count": 11,
   "metadata": {},
   "outputs": [],
   "source": [
    "import keras\n",
    "from tensorflow.keras import layers\n",
    "def transformer_encoder(inputs, head_size, num_heads, ff_dim, dropout=0):\n",
    "    # Normalization and Attention\n",
    "    x = layers.LayerNormalization(epsilon=1e-6)(inputs)\n",
    "    x = layers.MultiHeadAttention(\n",
    "        key_dim=head_size, num_heads=num_heads, dropout=dropout\n",
    "    )(x, x)\n",
    "    x = layers.Dropout(dropout)(x)\n",
    "    res = x + inputs\n",
    "\n",
    "    # Feed Forward Part\n",
    "    x = layers.LayerNormalization(epsilon=1e-6)(res)\n",
    "    x = layers.Conv1D(filters=ff_dim, kernel_size=1, activation=\"relu\")(x)\n",
    "    x = layers.Dropout(dropout)(x)\n",
    "    x = layers.Conv1D(filters=inputs.shape[-1], kernel_size=1)(x)\n",
    "    return x + res"
   ]
  },
  {
   "cell_type": "code",
   "execution_count": 12,
   "metadata": {},
   "outputs": [],
   "source": [
    "def build_model(\n",
    "    input_shape,\n",
    "    head_size,\n",
    "    num_heads,\n",
    "    ff_dim,\n",
    "    num_transformer_blocks,\n",
    "    mlp_units,\n",
    "    dropout=0,\n",
    "    mlp_dropout=0,\n",
    "):\n",
    "    inputs = keras.Input(shape=input_shape)\n",
    "    x = inputs\n",
    "    for _ in range(num_transformer_blocks):\n",
    "        x = transformer_encoder(x, head_size, num_heads, ff_dim, dropout)\n",
    "\n",
    "    x = layers.GlobalAveragePooling1D(data_format=\"channels_first\")(x)\n",
    "    for dim in mlp_units:\n",
    "        x = layers.Dense(dim, activation=\"relu\")(x)\n",
    "        x = layers.Dropout(mlp_dropout)(x)\n",
    "    outputs = layers.Dense(n_classes, activation=\"softmax\")(x)\n",
    "    return keras.Model(inputs, outputs)"
   ]
  },
  {
   "cell_type": "code",
   "execution_count": 13,
   "metadata": {
    "scrolled": false
   },
   "outputs": [
    {
     "name": "stdout",
     "output_type": "stream",
     "text": [
      "Model: \"model_1\"\n",
      "__________________________________________________________________________________________________\n",
      " Layer (type)                   Output Shape         Param #     Connected to                     \n",
      "==================================================================================================\n",
      " input_2 (InputLayer)           [(None, 5700, 12)]   0           []                               \n",
      "                                                                                                  \n",
      " layer_normalization_8 (LayerNo  (None, 5700, 12)    24          ['input_2[0][0]']                \n",
      " rmalization)                                                                                     \n",
      "                                                                                                  \n",
      " multi_head_attention_4 (MultiH  (None, 5700, 12)    52236       ['layer_normalization_8[0][0]',  \n",
      " eadAttention)                                                    'layer_normalization_8[0][0]']  \n",
      "                                                                                                  \n",
      " dropout_9 (Dropout)            (None, 5700, 12)     0           ['multi_head_attention_4[0][0]'] \n",
      "                                                                                                  \n",
      " tf.__operators__.add_8 (TFOpLa  (None, 5700, 12)    0           ['dropout_9[0][0]',              \n",
      " mbda)                                                            'input_2[0][0]']                \n",
      "                                                                                                  \n",
      " layer_normalization_9 (LayerNo  (None, 5700, 12)    24          ['tf.__operators__.add_8[0][0]'] \n",
      " rmalization)                                                                                     \n",
      "                                                                                                  \n",
      " conv1d_8 (Conv1D)              (None, 5700, 4)      52          ['layer_normalization_9[0][0]']  \n",
      "                                                                                                  \n",
      " dropout_10 (Dropout)           (None, 5700, 4)      0           ['conv1d_8[0][0]']               \n",
      "                                                                                                  \n",
      " conv1d_9 (Conv1D)              (None, 5700, 12)     60          ['dropout_10[0][0]']             \n",
      "                                                                                                  \n",
      " tf.__operators__.add_9 (TFOpLa  (None, 5700, 12)    0           ['conv1d_9[0][0]',               \n",
      " mbda)                                                            'tf.__operators__.add_8[0][0]'] \n",
      "                                                                                                  \n",
      " layer_normalization_10 (LayerN  (None, 5700, 12)    24          ['tf.__operators__.add_9[0][0]'] \n",
      " ormalization)                                                                                    \n",
      "                                                                                                  \n",
      " multi_head_attention_5 (MultiH  (None, 5700, 12)    52236       ['layer_normalization_10[0][0]', \n",
      " eadAttention)                                                    'layer_normalization_10[0][0]'] \n",
      "                                                                                                  \n",
      " dropout_11 (Dropout)           (None, 5700, 12)     0           ['multi_head_attention_5[0][0]'] \n",
      "                                                                                                  \n",
      " tf.__operators__.add_10 (TFOpL  (None, 5700, 12)    0           ['dropout_11[0][0]',             \n",
      " ambda)                                                           'tf.__operators__.add_9[0][0]'] \n",
      "                                                                                                  \n",
      " layer_normalization_11 (LayerN  (None, 5700, 12)    24          ['tf.__operators__.add_10[0][0]']\n",
      " ormalization)                                                                                    \n",
      "                                                                                                  \n",
      " conv1d_10 (Conv1D)             (None, 5700, 4)      52          ['layer_normalization_11[0][0]'] \n",
      "                                                                                                  \n",
      " dropout_12 (Dropout)           (None, 5700, 4)      0           ['conv1d_10[0][0]']              \n",
      "                                                                                                  \n",
      " conv1d_11 (Conv1D)             (None, 5700, 12)     60          ['dropout_12[0][0]']             \n",
      "                                                                                                  \n",
      " tf.__operators__.add_11 (TFOpL  (None, 5700, 12)    0           ['conv1d_11[0][0]',              \n",
      " ambda)                                                           'tf.__operators__.add_10[0][0]']\n",
      "                                                                                                  \n",
      " layer_normalization_12 (LayerN  (None, 5700, 12)    24          ['tf.__operators__.add_11[0][0]']\n",
      " ormalization)                                                                                    \n",
      "                                                                                                  \n",
      " multi_head_attention_6 (MultiH  (None, 5700, 12)    52236       ['layer_normalization_12[0][0]', \n",
      " eadAttention)                                                    'layer_normalization_12[0][0]'] \n",
      "                                                                                                  \n",
      " dropout_13 (Dropout)           (None, 5700, 12)     0           ['multi_head_attention_6[0][0]'] \n",
      "                                                                                                  \n",
      " tf.__operators__.add_12 (TFOpL  (None, 5700, 12)    0           ['dropout_13[0][0]',             \n",
      " ambda)                                                           'tf.__operators__.add_11[0][0]']\n",
      "                                                                                                  \n",
      " layer_normalization_13 (LayerN  (None, 5700, 12)    24          ['tf.__operators__.add_12[0][0]']\n",
      " ormalization)                                                                                    \n",
      "                                                                                                  \n",
      " conv1d_12 (Conv1D)             (None, 5700, 4)      52          ['layer_normalization_13[0][0]'] \n",
      "                                                                                                  \n",
      " dropout_14 (Dropout)           (None, 5700, 4)      0           ['conv1d_12[0][0]']              \n",
      "                                                                                                  \n",
      " conv1d_13 (Conv1D)             (None, 5700, 12)     60          ['dropout_14[0][0]']             \n",
      "                                                                                                  \n",
      " tf.__operators__.add_13 (TFOpL  (None, 5700, 12)    0           ['conv1d_13[0][0]',              \n",
      " ambda)                                                           'tf.__operators__.add_12[0][0]']\n",
      "                                                                                                  \n",
      " layer_normalization_14 (LayerN  (None, 5700, 12)    24          ['tf.__operators__.add_13[0][0]']\n",
      " ormalization)                                                                                    \n",
      "                                                                                                  \n",
      " multi_head_attention_7 (MultiH  (None, 5700, 12)    52236       ['layer_normalization_14[0][0]', \n",
      " eadAttention)                                                    'layer_normalization_14[0][0]'] \n",
      "                                                                                                  \n",
      " dropout_15 (Dropout)           (None, 5700, 12)     0           ['multi_head_attention_7[0][0]'] \n",
      "                                                                                                  \n",
      " tf.__operators__.add_14 (TFOpL  (None, 5700, 12)    0           ['dropout_15[0][0]',             \n",
      " ambda)                                                           'tf.__operators__.add_13[0][0]']\n",
      "                                                                                                  \n",
      " layer_normalization_15 (LayerN  (None, 5700, 12)    24          ['tf.__operators__.add_14[0][0]']\n",
      " ormalization)                                                                                    \n",
      "                                                                                                  \n",
      " conv1d_14 (Conv1D)             (None, 5700, 4)      52          ['layer_normalization_15[0][0]'] \n",
      "                                                                                                  \n",
      " dropout_16 (Dropout)           (None, 5700, 4)      0           ['conv1d_14[0][0]']              \n",
      "                                                                                                  \n",
      " conv1d_15 (Conv1D)             (None, 5700, 12)     60          ['dropout_16[0][0]']             \n",
      "                                                                                                  \n",
      " tf.__operators__.add_15 (TFOpL  (None, 5700, 12)    0           ['conv1d_15[0][0]',              \n",
      " ambda)                                                           'tf.__operators__.add_14[0][0]']\n",
      "                                                                                                  \n",
      " global_average_pooling1d_1 (Gl  (None, 5700)        0           ['tf.__operators__.add_15[0][0]']\n",
      " obalAveragePooling1D)                                                                            \n",
      "                                                                                                  \n",
      " dense_2 (Dense)                (None, 128)          729728      ['global_average_pooling1d_1[0][0\n",
      "                                                                 ]']                              \n",
      "                                                                                                  \n",
      " dropout_17 (Dropout)           (None, 128)          0           ['dense_2[0][0]']                \n",
      "                                                                                                  \n",
      " dense_3 (Dense)                (None, 5)            645         ['dropout_17[0][0]']             \n",
      "                                                                                                  \n",
      "==================================================================================================\n",
      "Total params: 939,957\n",
      "Trainable params: 939,957\n",
      "Non-trainable params: 0\n",
      "__________________________________________________________________________________________________\n"
     ]
    }
   ],
   "source": [
    "input_shape = X_train.shape[1:]\n",
    "n_classes = y.max() + 1\n",
    "model = build_model(\n",
    "    input_shape,\n",
    "    head_size=256,\n",
    "    num_heads=4,\n",
    "    ff_dim=4,\n",
    "    num_transformer_blocks=4,\n",
    "    mlp_units=[128],\n",
    "    mlp_dropout=0.4,\n",
    "    dropout=0.25,\n",
    ")\n",
    "\n",
    "model.compile(\n",
    "    loss=\"sparse_categorical_crossentropy\",\n",
    "    optimizer=keras.optimizers.Adam(learning_rate=6e-5),\n",
    "    metrics=[\"sparse_categorical_accuracy\"],\n",
    ")\n",
    "model.summary()\n",
    "\n",
    "callbacks = [keras.callbacks.ModelCheckpoint(\n",
    "        \"transformer_best_model.h5\", save_best_only=True, monitor=\"val_acc\",\n",
    "        save_freq = 120\n",
    "                              ),\n",
    "             keras.callbacks.EarlyStopping(patience=10, restore_best_weights=True)]"
   ]
  },
  {
   "cell_type": "code",
   "execution_count": 14,
   "metadata": {},
   "outputs": [
    {
     "name": "stdout",
     "output_type": "stream",
     "text": [
      "Epoch 1/60\n",
      "6/6 [==============================] - 526s 78s/step - loss: 6.5078 - sparse_categorical_accuracy: 0.4012 - val_loss: 1.8458 - val_sparse_categorical_accuracy: 0.5455\n",
      "Epoch 2/60\n",
      "6/6 [==============================] - 476s 79s/step - loss: 3.0301 - sparse_categorical_accuracy: 0.5988 - val_loss: 1.6222 - val_sparse_categorical_accuracy: 0.6364\n",
      "Epoch 3/60\n",
      "6/6 [==============================] - 511s 85s/step - loss: 1.4447 - sparse_categorical_accuracy: 0.7442 - val_loss: 0.8468 - val_sparse_categorical_accuracy: 0.7955\n",
      "Epoch 4/60\n",
      "6/6 [==============================] - 468s 78s/step - loss: 0.8975 - sparse_categorical_accuracy: 0.7965 - val_loss: 0.6270 - val_sparse_categorical_accuracy: 0.7955\n",
      "Epoch 5/60\n",
      "6/6 [==============================] - 505s 85s/step - loss: 1.0134 - sparse_categorical_accuracy: 0.8023 - val_loss: 0.5726 - val_sparse_categorical_accuracy: 0.7955\n",
      "Epoch 6/60\n",
      "6/6 [==============================] - 533s 88s/step - loss: 0.4704 - sparse_categorical_accuracy: 0.8663 - val_loss: 0.4680 - val_sparse_categorical_accuracy: 0.8864\n",
      "Epoch 7/60\n",
      "6/6 [==============================] - 465s 77s/step - loss: 0.4454 - sparse_categorical_accuracy: 0.8953 - val_loss: 0.4346 - val_sparse_categorical_accuracy: 0.8864\n",
      "Epoch 8/60\n",
      "6/6 [==============================] - 467s 78s/step - loss: 0.5326 - sparse_categorical_accuracy: 0.8547 - val_loss: 0.3929 - val_sparse_categorical_accuracy: 0.9091\n",
      "Epoch 9/60\n",
      "6/6 [==============================] - 462s 77s/step - loss: 0.3145 - sparse_categorical_accuracy: 0.9360 - val_loss: 0.3831 - val_sparse_categorical_accuracy: 0.8864\n",
      "Epoch 10/60\n",
      "6/6 [==============================] - 462s 77s/step - loss: 0.2664 - sparse_categorical_accuracy: 0.9186 - val_loss: 0.3740 - val_sparse_categorical_accuracy: 0.8864\n",
      "Epoch 11/60\n",
      "6/6 [==============================] - 464s 77s/step - loss: 0.2036 - sparse_categorical_accuracy: 0.9535 - val_loss: 0.3593 - val_sparse_categorical_accuracy: 0.8864\n",
      "Epoch 12/60\n",
      "6/6 [==============================] - 461s 77s/step - loss: 0.2440 - sparse_categorical_accuracy: 0.9244 - val_loss: 0.3627 - val_sparse_categorical_accuracy: 0.8864\n",
      "Epoch 13/60\n",
      "6/6 [==============================] - 464s 77s/step - loss: 0.1724 - sparse_categorical_accuracy: 0.9419 - val_loss: 0.3620 - val_sparse_categorical_accuracy: 0.8636\n",
      "Epoch 14/60\n",
      "6/6 [==============================] - 461s 77s/step - loss: 0.1335 - sparse_categorical_accuracy: 0.9709 - val_loss: 0.4245 - val_sparse_categorical_accuracy: 0.8864\n",
      "Epoch 15/60\n",
      "6/6 [==============================] - 461s 77s/step - loss: 0.2300 - sparse_categorical_accuracy: 0.9477 - val_loss: 0.4609 - val_sparse_categorical_accuracy: 0.8864\n",
      "Epoch 16/60\n",
      "6/6 [==============================] - 461s 77s/step - loss: 0.2009 - sparse_categorical_accuracy: 0.9302 - val_loss: 0.4570 - val_sparse_categorical_accuracy: 0.9091\n",
      "Epoch 17/60\n",
      "6/6 [==============================] - 462s 77s/step - loss: 0.0533 - sparse_categorical_accuracy: 0.9884 - val_loss: 0.4646 - val_sparse_categorical_accuracy: 0.9091\n",
      "Epoch 18/60\n",
      "6/6 [==============================] - 462s 77s/step - loss: 0.0921 - sparse_categorical_accuracy: 0.9535 - val_loss: 0.4513 - val_sparse_categorical_accuracy: 0.9091\n",
      "Epoch 19/60\n",
      "6/6 [==============================] - 529s 90s/step - loss: 0.1090 - sparse_categorical_accuracy: 0.9767 - val_loss: 0.4405 - val_sparse_categorical_accuracy: 0.9318\n",
      "Epoch 20/60\n",
      "5/6 [========================>.....] - ETA: 1:17 - loss: 0.0872 - sparse_categorical_accuracy: 0.9750WARNING:tensorflow:Can save best model only with val_acc available, skipping.\n",
      "6/6 [==============================] - 456s 76s/step - loss: 0.0934 - sparse_categorical_accuracy: 0.9709 - val_loss: 0.4556 - val_sparse_categorical_accuracy: 0.9318\n",
      "Epoch 21/60\n",
      "6/6 [==============================] - 459s 76s/step - loss: 0.0852 - sparse_categorical_accuracy: 0.9651 - val_loss: 0.4687 - val_sparse_categorical_accuracy: 0.9318\n",
      "2/2 [==============================] - 53s 22s/step - loss: 0.6600 - sparse_categorical_accuracy: 0.9091\n"
     ]
    },
    {
     "data": {
      "text/plain": [
       "[0.6599761843681335, 0.9090909361839294]"
      ]
     },
     "execution_count": 14,
     "metadata": {},
     "output_type": "execute_result"
    }
   ],
   "source": [
    "history = model.fit(\n",
    "    X_train,\n",
    "    y_train,\n",
    "    validation_split=0.2,\n",
    "    epochs=60,\n",
    "    batch_size=32,\n",
    "    callbacks=callbacks,\n",
    ")\n",
    "\n",
    "model.evaluate(X_test, y_test, verbose=1)"
   ]
  },
  {
   "cell_type": "code",
   "execution_count": 15,
   "metadata": {},
   "outputs": [
    {
     "data": {
      "image/png": "[encoded data removed]",
      "text/plain": [
       "<Figure size 432x288 with 1 Axes>"
      ]
     },
     "metadata": {
      "needs_background": "light"
     },
     "output_type": "display_data"
    }
   ],
   "source": [
    "plt.plot(history.history['sparse_categorical_accuracy'])\n",
    "plt.plot(history.history['val_sparse_categorical_accuracy'])\n",
    "plt.title('model accuracy')\n",
    "plt.ylabel('accuracy')\n",
    "plt.xlabel('epoch')\n",
    "plt.legend(['train', 'val'], loc='upper left')\n",
    "plt.show()"
   ]
  },
  {
   "cell_type": "code",
   "execution_count": 16,
   "metadata": {},
   "outputs": [
    {
     "data": {
      "image/png": "[encoded data removed]",
      "text/plain": [
       "<Figure size 432x288 with 1 Axes>"
      ]
     },
     "metadata": {
      "needs_background": "light"
     },
     "output_type": "display_data"
    }
   ],
   "source": [
    "plt.plot(history.history['loss'])\n",
    "plt.plot(history.history['val_loss'])\n",
    "plt.title('model loss')\n",
    "plt.ylabel('loss')\n",
    "plt.xlabel('epoch')\n",
    "plt.legend(['train', 'val'], loc='upper right')\n",
    "plt.show()"
   ]
  },
  {
   "cell_type": "code",
   "execution_count": null,
   "metadata": {},
   "outputs": [],
   "source": []
  },
  {
   "cell_type": "code",
   "execution_count": 17,
   "metadata": {},
   "outputs": [
    {
     "name": "stdout",
     "output_type": "stream",
     "text": [
      "2/2 [==============================] - 59s 22s/step\n"
     ]
    }
   ],
   "source": [
    "y_pred = model.predict(X_test)"
   ]
  },
  {
   "cell_type": "code",
   "execution_count": 18,
   "metadata": {},
   "outputs": [
    {
     "data": {
      "text/plain": [
       "array([[11,  1,  0,  0,  0],\n",
       "       [ 1, 10,  0,  1,  1],\n",
       "       [ 0,  0,  6,  0,  0],\n",
       "       [ 0,  0,  0, 12,  0],\n",
       "       [ 0,  0,  0,  1, 11]])"
      ]
     },
     "execution_count": 18,
     "metadata": {},
     "output_type": "execute_result"
    }
   ],
   "source": [
    "from sklearn.metrics import confusion_matrix\n",
    "matrix = confusion_matrix(y_test, y_pred.argmax(axis = 1))\n",
    "matrix"
   ]
  },
  {
   "cell_type": "code",
   "execution_count": 19,
   "metadata": {},
   "outputs": [
    {
     "name": "stdout",
     "output_type": "stream",
     "text": [
      "              precision    recall  f1-score   support\n",
      "\n",
      "           0       0.92      0.92      0.92        12\n",
      "           1       0.91      0.77      0.83        13\n",
      "           2       1.00      1.00      1.00         6\n",
      "           3       0.86      1.00      0.92        12\n",
      "           4       0.92      0.92      0.92        12\n",
      "\n",
      "    accuracy                           0.91        55\n",
      "   macro avg       0.92      0.92      0.92        55\n",
      "weighted avg       0.91      0.91      0.91        55\n",
      "\n"
     ]
    }
   ],
   "source": [
    "from sklearn.metrics import classification_report\n",
    "print(classification_report(y_test, y_pred.argmax(axis = 1)))"
   ]
  },
  {
   "cell_type": "code",
   "execution_count": 20,
   "metadata": {},
   "outputs": [],
   "source": [
    "from pretty_confusion_matrix import pp_matrix"
   ]
  },
  {
   "cell_type": "code",
   "execution_count": 22,
   "metadata": {},
   "outputs": [
    {
     "name": "stdout",
     "output_type": "stream",
     "text": [
      "ERROR! Session/line number was not unique in database. History logging moved to new session 25\n"
     ]
    },
    {
     "data": {
      "image/png": "[encoded data removed]",
      "text/plain": [
       "<Figure size 576x576 with 1 Axes>"
      ]
     },
     "metadata": {
      "needs_background": "light"
     },
     "output_type": "display_data"
    }
   ],
   "source": [
    "df_cm = pd.DataFrame(matrix)\n",
    "# colormap: see this and choose your more dear\n",
    "cmap = 'PuRd'\n",
    "pp_matrix(df_cm, cmap=cmap)"
   ]
  },
  {
   "cell_type": "code",
   "execution_count": null,
   "metadata": {},
   "outputs": [
    {
     "name": "stdout",
     "output_type": "stream",
     "text": [
      "ERROR! Session/line number was not unique in database. History logging moved to new session 26\n"
     ]
    }
   ],
   "source": [
    "df_confusion = pd.DataFrame(matrix, index = movements, columns=movements)\n",
    "df_confusion['TOTAL'] = df_confusion.sum(axis=1)\n",
    "df_confusion.loc['TOTAL']= df_confusion.sum()\n",
    "\n",
    "# get percentages\n",
    "df_percentages = df_confusion.div(df_confusion.TOTAL, axis=0)\n",
    "df_percentages.TOTAL = 0\n",
    "\n",
    "plt.figure(figsize=(24, 10))\n",
    "                        \n",
    "sns.set(font_scale = 1.5)\n",
    "\n",
    "# cmap using data for color, taking values from annot\n",
    "ax = sns.heatmap(data=df_percentages, annot=df_confusion, cmap='Blues', fmt=\"d\",\n",
    "                 cbar_kws={'label': 'percentages'})  \n",
    "  \n",
    "ax.set_title('Confusion Matrix\\n\\n',size=22)\n",
    "ax.set_xlabel('\\nPredicted Values',size=20)\n",
    "ax.set_ylabel('Actual Values ', size=20)"
   ]
  },
  {
   "cell_type": "code",
   "execution_count": null,
   "metadata": {},
   "outputs": [
    {
     "name": "stdout",
     "output_type": "stream",
     "text": [
      "ERROR! Session/line number was not unique in database. History logging moved to new session 27\n"
     ]
    }
   ],
   "source": []
  },
  {
   "cell_type": "code",
   "execution_count": null,
   "metadata": {},
   "outputs": [],
   "source": []
  }
 ],
 "metadata": {
  "kernelspec": {
   "display_name": "Python 3 (ipykernel)",
   "language": "python",
   "name": "python3"
  },
  "language_info": {
   "codemirror_mode": {
    "name": "ipython",
    "version": 3
   },
   "file_extension": ".py",
   "mimetype": "text/x-python",
   "name": "python",
   "nbconvert_exporter": "python",
   "pygments_lexer": "ipython3",
   "version": "3.8.16"
  }
 },
 "nbformat": 4,
 "nbformat_minor": 2
}
